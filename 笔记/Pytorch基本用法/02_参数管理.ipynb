{
 "cells": [
  {
   "cell_type": "code",
   "execution_count": 2,
   "id": "a53d2270",
   "metadata": {},
   "outputs": [
    {
     "data": {
      "text/plain": [
       "tensor([[0.1022],\n",
       "        [0.1027]], grad_fn=<AddmmBackward0>)"
      ]
     },
     "execution_count": 2,
     "metadata": {},
     "output_type": "execute_result"
    }
   ],
   "source": [
    "import torch \n",
    "from torch import nn\n",
    "\n",
    "net=nn.Sequential(nn.Linear(20,16),nn.ReLU(),nn.Linear(16,1))\n",
    "X=torch.rand(2,20)\n",
    "net(X)"
   ]
  },
  {
   "cell_type": "markdown",
   "id": "ca804bcb",
   "metadata": {},
   "source": [
    "参数访问 "
   ]
  },
  {
   "cell_type": "code",
   "execution_count": 4,
   "id": "44af5848",
   "metadata": {},
   "outputs": [
    {
     "name": "stdout",
     "output_type": "stream",
     "text": [
      "OrderedDict([('weight', tensor([[ 0.0886,  0.0862,  0.1562, -0.2012, -0.2137,  0.1912,  0.1724, -0.1329,\n",
      "         -0.0737,  0.0609,  0.0444, -0.2248,  0.2055, -0.1456,  0.1248, -0.0319]])), ('bias', tensor([0.0845]))])\n"
     ]
    }
   ],
   "source": [
    "print(net[2].state_dict())"
   ]
  },
  {
   "cell_type": "code",
   "execution_count": 7,
   "id": "2a7b20cf",
   "metadata": {},
   "outputs": [
    {
     "name": "stdout",
     "output_type": "stream",
     "text": [
      "<class 'torch.nn.parameter.Parameter'>\n"
     ]
    }
   ],
   "source": [
    "print(type(net[2].bias))"
   ]
  },
  {
   "cell_type": "markdown",
   "id": "7c1418f2",
   "metadata": {},
   "source": [
    "访问所有参数"
   ]
  },
  {
   "cell_type": "code",
   "execution_count": 9,
   "id": "692f7294",
   "metadata": {},
   "outputs": [
    {
     "name": "stdout",
     "output_type": "stream",
     "text": [
      "('weight', torch.Size([16, 20])) ('bias', torch.Size([16]))\n"
     ]
    }
   ],
   "source": [
    "print(*[(name,param.shape) for name,param in net[0].named_parameters()])"
   ]
  },
  {
   "cell_type": "code",
   "execution_count": 10,
   "id": "4f7055fc",
   "metadata": {},
   "outputs": [
    {
     "name": "stdout",
     "output_type": "stream",
     "text": [
      "('0.weight', torch.Size([16, 20])) ('0.bias', torch.Size([16])) ('2.weight', torch.Size([1, 16])) ('2.bias', torch.Size([1]))\n"
     ]
    }
   ],
   "source": [
    "print(*[(name,param.shape) for name,param in net.named_parameters()])"
   ]
  },
  {
   "cell_type": "code",
   "execution_count": 12,
   "id": "72fd5c16",
   "metadata": {},
   "outputs": [
    {
     "data": {
      "text/plain": [
       "<generator object Module.named_parameters at 0x0000018009E94C10>"
      ]
     },
     "execution_count": 12,
     "metadata": {},
     "output_type": "execute_result"
    }
   ],
   "source": [
    "net.named_parameters()"
   ]
  },
  {
   "cell_type": "code",
   "execution_count": 14,
   "id": "4189a3c9",
   "metadata": {},
   "outputs": [
    {
     "data": {
      "text/plain": [
       "tensor([[ 0.0886,  0.0862,  0.1562, -0.2012, -0.2137,  0.1912,  0.1724, -0.1329,\n",
       "         -0.0737,  0.0609,  0.0444, -0.2248,  0.2055, -0.1456,  0.1248, -0.0319]])"
      ]
     },
     "execution_count": 14,
     "metadata": {},
     "output_type": "execute_result"
    }
   ],
   "source": [
    "net.state_dict()['2.weight'].data"
   ]
  },
  {
   "cell_type": "markdown",
   "id": "255b5456",
   "metadata": {},
   "source": [
    "内置初始化"
   ]
  },
  {
   "cell_type": "code",
   "execution_count": 18,
   "id": "a6c88587",
   "metadata": {},
   "outputs": [
    {
     "data": {
      "text/plain": [
       "(tensor([ 3.2105e-03, -2.0115e-03,  1.3736e-02, -1.4064e-02, -7.7435e-03,\n",
       "         -3.1567e-04,  1.4853e-02, -1.5274e-02,  7.6698e-03, -8.6655e-05,\n",
       "          1.3160e-02,  1.4735e-02, -1.0834e-02,  1.6535e-02,  1.1150e-02,\n",
       "          1.2416e-02, -5.1178e-03, -1.2653e-03, -5.5394e-03,  8.2856e-03]),\n",
       " tensor(0.))"
      ]
     },
     "execution_count": 18,
     "metadata": {},
     "output_type": "execute_result"
    }
   ],
   "source": [
    "def init_normal(m):\n",
    "    if type(m) ==nn.Linear:\n",
    "        nn.init.normal_(m.weight,mean=0,std=0.01)\n",
    "        #normal_中下划线在nn中为替换函数，将传入的数替换\n",
    "        #nn.init模块中包含大量做初始化的函数\n",
    "        nn.init.zeros_(m.bias)\n",
    "net.apply(init_normal)\n",
    "#net.apply()函数对net中所有module调用传入的参数对应的函数\n",
    "net[0].weight.data[0],net[0].bias.data[0]"
   ]
  },
  {
   "cell_type": "code",
   "execution_count": null,
   "id": "cb85ca29",
   "metadata": {},
   "outputs": [],
   "source": []
  }
 ],
 "metadata": {
  "kernelspec": {
   "display_name": "Python 3 (ipykernel)",
   "language": "python",
   "name": "python3"
  },
  "language_info": {
   "codemirror_mode": {
    "name": "ipython",
    "version": 3
   },
   "file_extension": ".py",
   "mimetype": "text/x-python",
   "name": "python",
   "nbconvert_exporter": "python",
   "pygments_lexer": "ipython3",
   "version": "3.8.13"
  }
 },
 "nbformat": 4,
 "nbformat_minor": 5
}

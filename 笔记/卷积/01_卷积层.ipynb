{
 "cells": [
  {
   "cell_type": "markdown",
   "id": "8ab466a9",
   "metadata": {},
   "source": [
    "![图片](./01_img.png)"
   ]
  },
  {
   "cell_type": "markdown",
   "id": "0f80e498",
   "metadata": {},
   "source": [
    "![图片](./02_img.png)"
   ]
  },
  {
   "cell_type": "markdown",
   "id": "e58d4f52",
   "metadata": {},
   "source": [
    "![图片](./03_img.png)"
   ]
  },
  {
   "cell_type": "markdown",
   "id": "0a0b4966",
   "metadata": {},
   "source": [
    "![图片](04_img.png)"
   ]
  },
  {
   "cell_type": "code",
   "execution_count": null,
   "id": "85978063",
   "metadata": {},
   "outputs": [],
   "source": []
  }
 ],
 "metadata": {
  "kernelspec": {
   "display_name": "Python 3 (ipykernel)",
   "language": "python",
   "name": "python3"
  },
  "language_info": {
   "codemirror_mode": {
    "name": "ipython",
    "version": 3
   },
   "file_extension": ".py",
   "mimetype": "text/x-python",
   "name": "python",
   "nbconvert_exporter": "python",
   "pygments_lexer": "ipython3",
   "version": "3.8.13"
  }
 },
 "nbformat": 4,
 "nbformat_minor": 5
}

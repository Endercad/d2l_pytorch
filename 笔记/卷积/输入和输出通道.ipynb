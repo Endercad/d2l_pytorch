{
 "cells": [
  {
   "cell_type": "markdown",
   "id": "aa8cf3c0",
   "metadata": {},
   "source": [
    "![img](05_img.png)"
   ]
  },
  {
   "cell_type": "markdown",
   "id": "07040f0b",
   "metadata": {},
   "source": [
    "![](06_img.png)"
   ]
  },
  {
   "cell_type": "markdown",
   "id": "3088d224",
   "metadata": {},
   "source": [
    "![](07_img.png)"
   ]
  },
  {
   "cell_type": "markdown",
   "id": "94c8931d",
   "metadata": {},
   "source": [
    "![](08_img.png)"
   ]
  },
  {
   "cell_type": "code",
   "execution_count": null,
   "id": "ee25b6ba",
   "metadata": {},
   "outputs": [],
   "source": [
    " "
   ]
  }
 ],
 "metadata": {
  "kernelspec": {
   "display_name": "Python 3 (ipykernel)",
   "language": "python",
   "name": "python3"
  },
  "language_info": {
   "codemirror_mode": {
    "name": "ipython",
    "version": 3
   },
   "file_extension": ".py",
   "mimetype": "text/x-python",
   "name": "python",
   "nbconvert_exporter": "python",
   "pygments_lexer": "ipython3",
   "version": "3.8.13"
  }
 },
 "nbformat": 4,
 "nbformat_minor": 5
}
